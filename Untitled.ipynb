{
 "cells": [
  {
   "cell_type": "code",
   "execution_count": 1,
   "id": "3997fbcf",
   "metadata": {},
   "outputs": [
    {
     "name": "stdout",
     "output_type": "stream",
     "text": [
      "V:  264347\n"
     ]
    }
   ],
   "source": [
    "# Adjascency List representation in Python\n",
    "\n",
    "import json\n",
    "\n",
    "class AdjNode:\n",
    "    def __init__(self, value):\n",
    "        self.vertex = value\n",
    "        self.next = None\n",
    "\n",
    "\n",
    "class Graph:\n",
    "    def __init__(self, num):\n",
    "        self.V = num\n",
    "        self.graph = [None] * self.V\n",
    "\n",
    "    # Add edges\n",
    "    def add_edge(self, s, d):\n",
    "        node = AdjNode(d)\n",
    "        node.next = self.graph[s]\n",
    "        self.graph[s] = node\n",
    "\n",
    "        node = AdjNode(s)\n",
    "        node.next = self.graph[d]\n",
    "        self.graph[d] = node\n",
    "\n",
    "    # Print the graph\n",
    "    def print_agraph(self):\n",
    "        with open('graph.txt', 'w') as fout:\n",
    "            for i in range(self.V):\n",
    "                fout.write(\"Vertex \" + str(i) + \":\")\n",
    "                temp = self.graph[i]\n",
    "                while temp:\n",
    "                    fout.write(\" -> {} \".format(temp.vertex))\n",
    "                    temp = temp.next\n",
    "                fout.write(\" \\n\")\n",
    "\n",
    "\n",
    "if __name__ == \"__main__\":\n",
    "    f = open(\"G(1).json\")\n",
    "    data = json.load(f)\n",
    "    V = len(data)+1\n",
    "    print(\"V: \", V)\n",
    "\n",
    "    # Create graph and edges\n",
    "    graph = Graph(V)\n",
    "\n",
    "    for i in data:\n",
    "        for d in data[i]:\n",
    "            graph.add_edge(int(i) , int(d))\n",
    "\n",
    "    graph.print_agraph()\n",
    "\n",
    "    f.close()\n"
   ]
  },
  {
   "cell_type": "code",
   "execution_count": null,
   "id": "5e3a4343",
   "metadata": {},
   "outputs": [],
   "source": [
    "    "
   ]
  }
 ],
 "metadata": {
  "kernelspec": {
   "display_name": "Python 3 (ipykernel)",
   "language": "python",
   "name": "python3"
  },
  "language_info": {
   "codemirror_mode": {
    "name": "ipython",
    "version": 3
   },
   "file_extension": ".py",
   "mimetype": "text/x-python",
   "name": "python",
   "nbconvert_exporter": "python",
   "pygments_lexer": "ipython3",
   "version": "3.9.7"
  }
 },
 "nbformat": 4,
 "nbformat_minor": 5
}
