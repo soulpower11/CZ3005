{
 "cells": [
  {
   "cell_type": "code",
   "execution_count": 1,
   "id": "3997fbcf",
   "metadata": {},
   "outputs": [
    {
     "ename": "AttributeError",
     "evalue": "'list' object has no attribute 'put'",
     "output_type": "error",
     "traceback": [
      "\u001b[1;31m---------------------------------------------------------------------------\u001b[0m",
      "\u001b[1;31mAttributeError\u001b[0m                            Traceback (most recent call last)",
      "\u001b[1;32m~\\AppData\\Local\\Temp/ipykernel_21140/173836718.py\u001b[0m in \u001b[0;36m<module>\u001b[1;34m\u001b[0m\n\u001b[0;32m     75\u001b[0m \u001b[1;33m\u001b[0m\u001b[0m\n\u001b[0;32m     76\u001b[0m     \u001b[1;31m# find shortest distance from source to destination node\u001b[0m\u001b[1;33m\u001b[0m\u001b[1;33m\u001b[0m\u001b[0m\n\u001b[1;32m---> 77\u001b[1;33m     \u001b[0mpath\u001b[0m\u001b[1;33m,\u001b[0m \u001b[0mshortest_dist\u001b[0m\u001b[1;33m,\u001b[0m  \u001b[1;33m=\u001b[0m \u001b[0muniform_cost_search\u001b[0m\u001b[1;33m(\u001b[0m\u001b[0mgraph\u001b[0m\u001b[1;33m,\u001b[0m \u001b[0mdist\u001b[0m\u001b[1;33m,\u001b[0m \u001b[0msrc\u001b[0m\u001b[1;33m,\u001b[0m \u001b[0mdest\u001b[0m\u001b[1;33m)\u001b[0m\u001b[1;33m\u001b[0m\u001b[1;33m\u001b[0m\u001b[0m\n\u001b[0m\u001b[0;32m     78\u001b[0m     \u001b[0mprint\u001b[0m\u001b[1;33m(\u001b[0m\u001b[1;34m\"Shortest path: \"\u001b[0m\u001b[1;33m,\u001b[0m \u001b[0mend\u001b[0m\u001b[1;33m=\u001b[0m\u001b[1;34m\"\"\u001b[0m\u001b[1;33m)\u001b[0m\u001b[1;33m\u001b[0m\u001b[1;33m\u001b[0m\u001b[0m\n\u001b[0;32m     79\u001b[0m     \u001b[0mprint\u001b[0m\u001b[1;33m(\u001b[0m\u001b[1;33m*\u001b[0m\u001b[0mpath\u001b[0m\u001b[1;33m,\u001b[0m \u001b[0msep\u001b[0m\u001b[1;33m=\u001b[0m\u001b[1;34m\" -> \"\u001b[0m\u001b[1;33m,\u001b[0m \u001b[0mend\u001b[0m\u001b[1;33m=\u001b[0m\u001b[1;34m\".\\n\"\u001b[0m\u001b[1;33m)\u001b[0m\u001b[1;33m\u001b[0m\u001b[1;33m\u001b[0m\u001b[0m\n",
      "\u001b[1;32m~\\AppData\\Local\\Temp/ipykernel_21140/173836718.py\u001b[0m in \u001b[0;36muniform_cost_search\u001b[1;34m(graph, dist, src, dest)\u001b[0m\n\u001b[0;32m     10\u001b[0m \u001b[1;33m\u001b[0m\u001b[0m\n\u001b[0;32m     11\u001b[0m     \u001b[1;31m# insert the starting index\u001b[0m\u001b[1;33m\u001b[0m\u001b[1;33m\u001b[0m\u001b[0m\n\u001b[1;32m---> 12\u001b[1;33m     \u001b[0mqueue\u001b[0m\u001b[1;33m.\u001b[0m\u001b[0mput\u001b[0m\u001b[1;33m(\u001b[0m\u001b[1;33m[\u001b[0m\u001b[1;36m0\u001b[0m\u001b[1;33m,\u001b[0m \u001b[0mpath\u001b[0m\u001b[1;33m]\u001b[0m\u001b[1;33m)\u001b[0m\u001b[1;33m\u001b[0m\u001b[1;33m\u001b[0m\u001b[0m\n\u001b[0m\u001b[0;32m     13\u001b[0m \u001b[1;33m\u001b[0m\u001b[0m\n\u001b[0;32m     14\u001b[0m     \u001b[1;31m# dictionary to keep track of visited node\u001b[0m\u001b[1;33m\u001b[0m\u001b[1;33m\u001b[0m\u001b[0m\n",
      "\u001b[1;31mAttributeError\u001b[0m: 'list' object has no attribute 'put'"
     ]
    }
   ],
   "source": [
    "import json\n",
    "\n",
    "def uniform_cost_search(graph, dist, src, dest):\n",
    "\n",
    "    # create a priority queue\n",
    "    queue = []\n",
    "\n",
    "    # create a path that starts with the starting node\n",
    "    path = [src]\n",
    "    \n",
    "    # insert the starting index\n",
    "    queue.append([0, path])\n",
    "\n",
    "    # dictionary to keep track of visited node\n",
    "    visited = {}\n",
    "\n",
    "    # while the queue is not empty\n",
    "    while queue:\n",
    "\n",
    "        # sort the queue so that the element with the highest priority is the last element\n",
    "        queue = sorted(queue)\n",
    "        p = queue[-1]\n",
    "\n",
    "        # pop the element with the highest priority\n",
    "        del queue[-1]\n",
    "\n",
    "        # get the original value\n",
    "        p[0] *= -1\n",
    "\n",
    "        # get the path\n",
    "        path = p[1]\n",
    "\n",
    "        # set the current node to the last node in the path\n",
    "        cur_node = path[-1]\n",
    "\n",
    "        # check if current node is the destination node\n",
    "        if cur_node == dest:\n",
    "            # return the path and the total distance from source to destination node\n",
    "            return path, p[0]\n",
    "\n",
    "        # check for the non visited nodes\n",
    "        if cur_node not in visited:\n",
    "            for i in range(len(graph[str(cur_node)])):\n",
    "\n",
    "                # clone current path to a new path to \n",
    "                # prevent appending to the current path\n",
    "                newPath = path[:]\n",
    "                # append the adjacent node to the new path\n",
    "                newPath.append(graph[str(cur_node)][i])\n",
    "\n",
    "                # value is multiplied by -1 so that\n",
    "                # least priority is at the top\n",
    "                queue.append(\n",
    "                    [(p[0] + dist[f\"{cur_node},{graph[str(cur_node)][i]}\"]) * -1, newPath])\n",
    "\n",
    "        # mark current ndoe as visited\n",
    "        visited[cur_node] = 1\n",
    "        \n",
    "# main function\n",
    "if __name__ == '__main__':\n",
    "\n",
    "    # load graph from JSON\n",
    "    g = open(\"G.json\")\n",
    "    graph = json.load(g)\n",
    "    \n",
    "    # load distance from JSON\n",
    "    d = open(\"Dist.json\")\n",
    "    dist = json.load(d)\n",
    "\n",
    "    # set source node\n",
    "    src = '1'\n",
    "\n",
    "    # set destination node\n",
    "    dest = '50'\n",
    "\n",
    "    # find shortest distance from source to destination node\n",
    "    path, shortest_dist,  = uniform_cost_search(graph, dist, src, dest)\n",
    "    print(\"Shortest path: \", end=\"\")\n",
    "    print(*path, sep=\" -> \", end=\".\\n\")\n",
    "\n",
    "    # print the shortest distance\n",
    "    print(f\"Shortest Distance: {shortest_dist}.\")\n"
   ]
  },
  {
   "cell_type": "code",
   "execution_count": null,
   "id": "5e3a4343",
   "metadata": {},
   "outputs": [],
   "source": [
    "    "
   ]
  }
 ],
 "metadata": {
  "kernelspec": {
   "display_name": "Python 3 (ipykernel)",
   "language": "python",
   "name": "python3"
  },
  "language_info": {
   "codemirror_mode": {
    "name": "ipython",
    "version": 3
   },
   "file_extension": ".py",
   "mimetype": "text/x-python",
   "name": "python",
   "nbconvert_exporter": "python",
   "pygments_lexer": "ipython3",
   "version": "3.9.7"
  }
 },
 "nbformat": 4,
 "nbformat_minor": 5
}
